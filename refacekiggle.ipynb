{
  "nbformat": 4,
  "nbformat_minor": 0,
  "metadata": {
    "colab": {
      "provenance": [],
      "authorship_tag": "ABX9TyOvHwsghRaASOFI+ZUP2yot",
      "include_colab_link": true
    },
    "kernelspec": {
      "name": "python3",
      "display_name": "Python 3"
    },
    "language_info": {
      "name": "python"
    }
  },
  "cells": [
    {
      "cell_type": "markdown",
      "metadata": {
        "id": "view-in-github",
        "colab_type": "text"
      },
      "source": [
        "<a href=\"https://colab.research.google.com/github/victorgeel/reface/blob/main/refacekiggle.ipynb\" target=\"_parent\"><img src=\"https://colab.research.google.com/assets/colab-badge.svg\" alt=\"Open In Colab\"/></a>"
      ]
    },
    {
      "cell_type": "code",
      "execution_count": null,
      "metadata": {
        "id": "yd6DJSBbCoNz"
      },
      "outputs": [],
      "source": [
        "!pip uninstall numpy -y -q\n",
        "!pip install --disable-pip-version-check --root-user-action=ignore ngrok numpy==1.24.3 onnxruntime-gpu gradio insightface==0.7.3 ffmpeg_python opencv_python -q --force\n",
        "!git clone https://github.com/xaviviro/refacer.git\n",
        "%cd refacer\n",
        "!wget --content-disposition \"https://github.com/facefusion/facefusion-assets/releases/download/models/inswapper_128.onnx\""
      ]
    },
    {
      "cell_type": "code",
      "source": [
        "# - Option 2: Running with Ngrok - #\n",
        "\n",
        "Ngrok_token = \"2h9FBcc1Zd0HXzx8L4fYxl3ZkYZ_FBzPFTcSmaucrReHU6cq\" #@param {type:\"string\"}\n",
        "# Put your ngrok token here (obtainable from https://ngrok.com)\n",
        "\n",
        "Ngrok_domain = \"\" # optional, leave empty if you don't have a domain\n",
        "\n",
        "# -------------------------------- #\n",
        "\n",
        "!pip install pyngrok\n",
        "\n",
        "from pyngrok import ngrok, conf\n",
        "import fileinput\n",
        "import sys\n",
        "\n",
        "if Ngrok_token!=\"\":\n",
        "  ngrok.kill()\n",
        "  srv=ngrok.connect(7860 , pyngrok_config=conf.PyngrokConfig(auth_token=Ngrok_token),\n",
        "                    bind_tls=True, domain=Ngrok_domain).public_url\n",
        "  print(srv)\n",
        "  get_ipython().system(\"python app.py\")\n",
        "else:\n",
        "  print('An ngrok token is required. You can get one on https://ngrok.com and paste it into the ngrok_token field.')"
      ],
      "metadata": {
        "id": "B1mU3pxgEG8S"
      },
      "execution_count": null,
      "outputs": []
    }
  ]
}