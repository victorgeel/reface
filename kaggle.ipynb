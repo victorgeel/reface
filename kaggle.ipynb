!pip uninstall numpy -y -q
!pip install --disable-pip-version-check --no-cache-dir ngrok jedi numpy onnxruntime-gpu gradio insightface ffmpeg-python opencv-python-headless -q --force

!git clone https://github.com/xaviviro/refacer.git
%cd refacer

!wget --content-disposition "https://github.com/facefusion/facefusion-assets/releases/download/models/inswapper_128.onnx"

# You may need to adjust the path to the downloaded model depending on where it's saved
model_path = "inswapper_128.onnx"

# Modify the command to run the app.py script
!python app.py --share_gradio --kaggle_performance
